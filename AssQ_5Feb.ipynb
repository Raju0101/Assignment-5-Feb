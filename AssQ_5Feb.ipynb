{
 "cells": [
  {
   "cell_type": "markdown",
   "id": "782b06a5-38f9-40b0-b4b8-c136800ef961",
   "metadata": {},
   "source": [
    "## Assignment 5-Feb "
   ]
  },
  {
   "cell_type": "code",
   "execution_count": null,
   "id": "f8aa482d-3d87-466e-99b4-9547c112eb87",
   "metadata": {},
   "outputs": [],
   "source": [
    "##  Q1. Explain Class and Object with respect to Object-Oriented Programming. Give a suitable example."
   ]
  },
  {
   "cell_type": "code",
   "execution_count": null,
   "id": "ad972f0e-2509-4b21-b702-aafdd1feec52",
   "metadata": {},
   "outputs": [],
   "source": [
    "# class: Class is a logical entity in OOPs and it can be declared only once.\n",
    "# Ex- Car, Bike\n",
    "# Object: Object can be created many times as per requirement..\n",
    "# Objects of class can be BMW,Toyata,Maruti,Mercedes, Jaguar Etc"
   ]
  },
  {
   "cell_type": "code",
   "execution_count": null,
   "id": "419bb2e5-a275-4a46-a742-840125453a8c",
   "metadata": {},
   "outputs": [],
   "source": []
  },
  {
   "cell_type": "code",
   "execution_count": null,
   "id": "314229b3-6b3e-4e51-82a4-8375e6e72221",
   "metadata": {},
   "outputs": [],
   "source": [
    "# Q2. Name the four pillars of OOPs."
   ]
  },
  {
   "cell_type": "code",
   "execution_count": null,
   "id": "ada1fa41-faf0-41bf-900d-cbfbb3068f39",
   "metadata": {},
   "outputs": [],
   "source": [
    "# These four pillars are Inheritance, Polymorphism, Encapsulation and Abstraction."
   ]
  },
  {
   "cell_type": "code",
   "execution_count": null,
   "id": "7ce71fdb-b754-40e7-85b7-49a4e8b0dac8",
   "metadata": {},
   "outputs": [],
   "source": []
  },
  {
   "cell_type": "code",
   "execution_count": null,
   "id": "70957e49-7d50-478f-b7cf-dbf94956a501",
   "metadata": {},
   "outputs": [],
   "source": [
    "# Q3. Explain why the __init__() function is used. Give a suitable example."
   ]
  },
  {
   "cell_type": "code",
   "execution_count": null,
   "id": "08202eda-3365-412a-8c65-ca788d3ad3b7",
   "metadata": {},
   "outputs": [],
   "source": [
    "# The task of constructors is to initialize(assign values) to the data members of the class when \n",
    "# an object of the class is created.Like methods "
   ]
  },
  {
   "cell_type": "code",
   "execution_count": 4,
   "id": "e44a8b66-ba1a-4016-9b36-8af3741d6f16",
   "metadata": {},
   "outputs": [
    {
     "name": "stdout",
     "output_type": "stream",
     "text": [
      "Hello, my name is Raju\n"
     ]
    }
   ],
   "source": [
    "class Person:\n",
    " \n",
    "    # init method or constructor\n",
    "    def __init__(self, name):\n",
    "        self.name = name\n",
    " \n",
    "    # Sample Method\n",
    "    def say_hi(self):\n",
    "        print('Hello, my name is', self.name)\n",
    " \n",
    " \n",
    "p = Person('Raju')\n",
    "p.say_hi()"
   ]
  },
  {
   "cell_type": "code",
   "execution_count": null,
   "id": "5df32e04-7ad6-42ec-a466-aa4c58f97fb0",
   "metadata": {},
   "outputs": [],
   "source": []
  },
  {
   "cell_type": "code",
   "execution_count": null,
   "id": "3bb991fc-cf8c-4788-83e6-21b317bda725",
   "metadata": {},
   "outputs": [],
   "source": [
    "# Q4.Why self is used in OOPs?"
   ]
  },
  {
   "cell_type": "code",
   "execution_count": 5,
   "id": "5747af02-9412-460f-a336-4fb06d19d748",
   "metadata": {},
   "outputs": [],
   "source": [
    "# The self variable is used to represent the instance of the class which is often used in OOPs.\n",
    "# It works as a reference to the object. Python uses the self \n",
    "# parameter to refer to instance attributes and methods of the class."
   ]
  },
  {
   "cell_type": "code",
   "execution_count": null,
   "id": "a09ffd98-0d5e-4156-82f7-c823b9203fd1",
   "metadata": {},
   "outputs": [],
   "source": []
  },
  {
   "cell_type": "code",
   "execution_count": null,
   "id": "07aca009-4bbc-44cf-b443-b1975d40533f",
   "metadata": {},
   "outputs": [],
   "source": [
    "# Q5. What is inheritance? Give an example for each type of inheritance."
   ]
  },
  {
   "cell_type": "code",
   "execution_count": null,
   "id": "22ca86ac-8e28-4b04-9560-663553201b18",
   "metadata": {},
   "outputs": [],
   "source": [
    "# Inheritance is a mechanism of acquiring the features and behaviors of a class by another class. \n",
    "# The class whose members are inherited is called the base class( parent class), and the class that inherits\n",
    "# those members is called the derived class(child class). "
   ]
  },
  {
   "cell_type": "code",
   "execution_count": null,
   "id": "e0ba6c9f-b711-40df-8fb5-3bade61eb640",
   "metadata": {},
   "outputs": [],
   "source": [
    "# Types of inheritance: There are five types of inheritance in python programming:\n",
    "\n",
    "# 1). Single inheritance\n",
    "# 2). Multiple inheritances\n",
    "# 3). Multilevel inheritance\n",
    "# 4). Hierarchical inheritance\n",
    "# 5). Hybrid inheritance"
   ]
  },
  {
   "cell_type": "code",
   "execution_count": 21,
   "id": "c0f9a32e-ce48-4248-92b6-aeb0b61ba45d",
   "metadata": {},
   "outputs": [
    {
     "name": "stdout",
     "output_type": "stream",
     "text": [
      "Parent class-A \n",
      " child Class-B inheritedfrom class-A\n"
     ]
    }
   ],
   "source": [
    "# Single Inheritance: \n",
    "\n",
    "class A:\n",
    "    x = \"Parent class-A \"\n",
    "        \n",
    "class B(A):\n",
    "    y = \" child Class-B inheritedfrom class-A\"\n",
    "\n",
    "obj = B()\n",
    "print(obj.x)\n",
    "print(obj.y)"
   ]
  },
  {
   "cell_type": "code",
   "execution_count": 17,
   "id": "2b09bd15-8a45-49ab-a418-810e3879821c",
   "metadata": {},
   "outputs": [
    {
     "name": "stdout",
     "output_type": "stream",
     "text": [
      "Class A\n",
      "class B \n",
      "Class c inherited from class-A and class-B\n"
     ]
    }
   ],
   "source": [
    "# Multiple inheritances:\n",
    "\n",
    "class A:\n",
    "    x = \"Class A\"\n",
    "class B:\n",
    "    y = \"class B \"\n",
    "\n",
    "class C(A,B):\n",
    "    z = \"Class c inherited from class-A and class-B\"\n",
    "\n",
    "obj = C()\n",
    "print(obj.x)\n",
    "print(obj.y)\n",
    "print(obj.z)"
   ]
  },
  {
   "cell_type": "code",
   "execution_count": 20,
   "id": "8a73dfa9-1d33-4331-88fd-59d25188f4dd",
   "metadata": {},
   "outputs": [
    {
     "name": "stdout",
     "output_type": "stream",
     "text": [
      "class-A\n",
      "Class-B inherited from class-A\n",
      "class-Z inherited from class-B\n"
     ]
    }
   ],
   "source": [
    "# Multilevel inheritance:\n",
    "\n",
    "class A:\n",
    "    x= \"class-A\"\n",
    "class B(A):\n",
    "    y = \"Class-B inherited from class-A\"\n",
    "class C(B):\n",
    "    z = \"class-Z inherited from class-B\"\n",
    "    \n",
    "obj = C()\n",
    "print(obj.x)\n",
    "print(obj.y)\n",
    "print(obj.z)\n",
    "\n",
    "  "
   ]
  },
  {
   "cell_type": "code",
   "execution_count": 4,
   "id": "137148dd-5ae2-49bd-8cbc-224f18bed671",
   "metadata": {},
   "outputs": [
    {
     "name": "stdout",
     "output_type": "stream",
     "text": [
      "Parent class-A\n"
     ]
    }
   ],
   "source": [
    "# Hierarchical inheritance:\n",
    "\n",
    "class A:\n",
    "    x = \"Parent class-A\"\n",
    "class B(A):\n",
    "    y = (\"child class B inherited from class-A\")\n",
    "class C(A):\n",
    "    z = (\"child class C inherited from A\")    \n",
    "class D(A):\n",
    "    t = (\"child class D inherited from A\")\n",
    "\n",
    "obj = D()\n",
    "print(obj.x)"
   ]
  },
  {
   "cell_type": "code",
   "execution_count": 19,
   "id": "19cc8f7e-e8bf-4158-9742-19e6474d90cd",
   "metadata": {},
   "outputs": [
    {
     "name": "stdout",
     "output_type": "stream",
     "text": [
      "This is PC class\n",
      "This is Laptop class inheriting PC class\n",
      "This is Mouse class inheriting Laptop class\n",
      "This is Student class inheriting PC and Laptop\n"
     ]
    }
   ],
   "source": [
    "#Example_Hybrid_inheritance\n",
    "class PC:\n",
    "     x=\"This is PC class\"\n",
    "\n",
    "class Laptop(PC):\n",
    "     y= \"This is Laptop class inheriting PC class\"\n",
    "\n",
    "class Mouse(Laptop):\n",
    "     z= \"This is Mouse class inheriting Laptop class\"\n",
    "\n",
    "class Student(Mouse, Laptop):\n",
    "     t= \"This is Student class inheriting PC and Laptop\"\n",
    "\n",
    "obj = Student()\n",
    "\n",
    "print(obj.x)\n",
    "print(obj.y)\n",
    "print(obj.z)\n",
    "print(obj.t)"
   ]
  },
  {
   "cell_type": "code",
   "execution_count": null,
   "id": "649b6b97-947e-4198-bd6b-e164d3a60c0b",
   "metadata": {},
   "outputs": [],
   "source": []
  },
  {
   "cell_type": "code",
   "execution_count": null,
   "id": "6c2e6580-67ea-4a71-b368-2edbb11ba32d",
   "metadata": {},
   "outputs": [],
   "source": []
  },
  {
   "cell_type": "code",
   "execution_count": null,
   "id": "196f7a35-9b17-45ae-927e-9cd0234f4bee",
   "metadata": {},
   "outputs": [],
   "source": []
  },
  {
   "cell_type": "code",
   "execution_count": null,
   "id": "938794f3-b471-4deb-984b-e145bd521b72",
   "metadata": {},
   "outputs": [],
   "source": []
  },
  {
   "cell_type": "code",
   "execution_count": null,
   "id": "a337f546-8268-4f3d-813c-9eac57ecef74",
   "metadata": {},
   "outputs": [],
   "source": []
  }
 ],
 "metadata": {
  "kernelspec": {
   "display_name": "Python 3 (ipykernel)",
   "language": "python",
   "name": "python3"
  },
  "language_info": {
   "codemirror_mode": {
    "name": "ipython",
    "version": 3
   },
   "file_extension": ".py",
   "mimetype": "text/x-python",
   "name": "python",
   "nbconvert_exporter": "python",
   "pygments_lexer": "ipython3",
   "version": "3.10.8"
  }
 },
 "nbformat": 4,
 "nbformat_minor": 5
}
